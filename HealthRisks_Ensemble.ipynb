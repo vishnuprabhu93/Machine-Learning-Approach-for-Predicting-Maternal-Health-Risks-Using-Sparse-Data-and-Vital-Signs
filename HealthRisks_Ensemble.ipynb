{
 "cells": [
  {
   "cell_type": "markdown",
   "id": "1b5de8e7",
   "metadata": {},
   "source": [
    "# Load libraries and data"
   ]
  },
  {
   "cell_type": "code",
   "execution_count": 1,
   "id": "fa0e0570",
   "metadata": {},
   "outputs": [],
   "source": [
    "import copy\n",
    "import numpy as np\n",
    "import pandas as pd\n",
    "from sklearn import metrics\n",
    "from sklearn.metrics import accuracy_score, classification_report\n",
    "\n",
    "# CATBoost model\n",
    "from catboost import CatBoostClassifier, Pool\n",
    "\n",
    "# XGBoost model\n",
    "from xgboost import XGBClassifier\n",
    "from sklearn.preprocessing import LabelEncoder\n",
    "    \n",
    "# Random forest model\n",
    "from sklearn.ensemble import RandomForestClassifier\n",
    "\n",
    "# Load the dataset\n",
    "pre_test_data = pd.read_csv('Maternal Health Risk Data Set.csv')"
   ]
  },
  {
   "cell_type": "markdown",
   "id": "2b556321",
   "metadata": {},
   "source": [
    "# CatBoost without scaling and stratified sampling"
   ]
  },
  {
   "cell_type": "code",
   "execution_count": 2,
   "id": "747a5091",
   "metadata": {},
   "outputs": [],
   "source": [
    "def get_catBoost_results(X_train_strat, X_test_strat, y_train_strat, y_test_strat):\n",
    "    \n",
    "    # Declare input training data indices that have categorical variables\n",
    "    cat_features = []\n",
    "    \n",
    "    # Training and test datasets prep for CatBoost\n",
    "    train_CatData = Pool(data=X_train_strat, label=y_train_strat, cat_features=cat_features)\n",
    "    eval_CatData = Pool(data=X_test_strat, label=y_test_strat, cat_features=cat_features)\n",
    "    \n",
    "    # Initialize CatBoostClassifier\n",
    "    cat_model = CatBoostClassifier(iterations=1111, learning_rate=0.02778, depth=10, loss_function='MultiClass', verbose=False, random_state=11)\n",
    "    \n",
    "    # Fit model\n",
    "    cat_model.fit(train_CatData)\n",
    "    \n",
    "    # Get predicted classes\n",
    "    y_pred = cat_model.predict(eval_CatData)\n",
    "    \n",
    "    # Get predicted probabilities for each class\n",
    "    preds_proba = cat_model.predict_proba(eval_CatData)\n",
    "    \n",
    "    # Evaluate the model\n",
    "    accuracy_cb = accuracy_score(y_test_strat, y_pred)\n",
    "    print(f\"Test Accuracy of Random Forest: {accuracy_cb*100:.4f}%\")\n",
    "\n",
    "    # Training score\n",
    "    y_train_pred = cat_model.predict(X_train_strat)\n",
    "    trainScore = accuracy_score(y_train_strat, y_train_pred)\n",
    "    print(f\"Train Accuracy of Random Forest: {trainScore*100:.4f}%\")\n",
    "\n",
    "    df = pd.DataFrame(preds_proba, columns =['High risk prob', 'Low risk prob', 'Medium risk prob'], dtype = float)\n",
    "    df['Prediction'] = y_pred.tolist()\n",
    "\n",
    "    df['Prediction'] = df['Prediction'].astype(str)\n",
    "    df['Prediction'] = df['Prediction'].str.replace(\"['\", \"\")\n",
    "    df['Prediction'] = df['Prediction'].str.replace(\"']\", \"\")\n",
    "\n",
    "    return y_pred, preds_proba, trainScore, df, accuracy_cb"
   ]
  },
  {
   "cell_type": "markdown",
   "id": "0ee3a037",
   "metadata": {},
   "source": [
    "# XGBoost without scaling and with stratified sampling"
   ]
  },
  {
   "cell_type": "code",
   "execution_count": 3,
   "id": "0db4e6cc",
   "metadata": {},
   "outputs": [],
   "source": [
    "def get_XGBoost_results(X_train_strat, X_test_strat, y_train_strat, y_test_strat):\n",
    "\n",
    "    le = LabelEncoder()\n",
    "    y_trainXGb = le.fit_transform(y_train_strat)\n",
    "    \n",
    "    # Train the Random Forest classifier\n",
    "    clf_xgboost = XGBClassifier(max_depth = 10, random_state=11)\n",
    "    clf_xgboost.fit(X_train_strat, y_trainXGb)\n",
    "    \n",
    "    # Predict on test set\n",
    "    y_pred = clf_xgboost.predict(X_test_strat)\n",
    "    y_pred = le.inverse_transform(y_pred)\n",
    "\n",
    "    # Get predicted probabilities for each class\n",
    "    preds_proba = clf_xgboost.predict_proba(X_test_strat)\n",
    "    \n",
    "    # Evaluate the model\n",
    "    accuracy_xg = accuracy_score(y_test_strat, y_pred)\n",
    "    print(f\"Test Accuracy of Random Forest: {accuracy_xg*100:.4f}%\")\n",
    "\n",
    "    # Training score\n",
    "    y_train_pred = clf_xgboost.predict(X_train_strat)\n",
    "    y_train_pred = le.inverse_transform(y_train_pred)\n",
    "    trainScore = accuracy_score(y_train_strat, y_train_pred)\n",
    "    print(f\"Train Accuracy of Random Forest: {trainScore*100:.4f}%\")\n",
    "\n",
    "    df = pd.DataFrame(preds_proba, columns =['High risk prob', 'Low risk prob', 'Medium risk prob'], dtype = float)\n",
    "    df['Prediction'] = y_pred\n",
    "\n",
    "    return y_pred, preds_proba, trainScore, df, accuracy_xg"
   ]
  },
  {
   "cell_type": "markdown",
   "id": "b2394d25",
   "metadata": {},
   "source": [
    "# Random forest without scaling and with stratified sampling"
   ]
  },
  {
   "cell_type": "code",
   "execution_count": 4,
   "id": "2ae91801",
   "metadata": {},
   "outputs": [],
   "source": [
    "def get_RandForest_results(X_train_strat, X_test_strat, y_train_strat, y_test_strat):\n",
    "    \n",
    "    # Train the Random Forest classifier\n",
    "    clf_rf = RandomForestClassifier(n_estimators=205, max_leaf_nodes=8, max_features='sqrt', max_depth=14, random_state=11)\n",
    "    clf_rf.fit(X_train_strat, y_train_strat)\n",
    "    \n",
    "    # Predict on test set\n",
    "    y_pred = clf_rf.predict(X_test_strat)\n",
    "\n",
    "    # Get predicted probabilities for each class\n",
    "    preds_proba = clf_rf.predict_proba(X_test_strat)\n",
    "\n",
    "    # Evaluate the model\n",
    "    accuracy_rf = accuracy_score(y_test_strat, y_pred)\n",
    "    print(f\"Test Accuracy of Random Forest: {accuracy_rf*100:.4f}%\")\n",
    "\n",
    "    # Training score\n",
    "    y_train_pred = clf_rf.predict(X_train_strat)\n",
    "    trainScore = accuracy_score(y_train_strat, y_train_pred)\n",
    "    print(f\"Train Accuracy of Random Forest: {trainScore*100:.4f}%\")\n",
    "\n",
    "    df = pd.DataFrame(preds_proba, columns =['High risk prob', 'Low risk prob', 'Medium risk prob'], dtype = float)\n",
    "    df['Prediction'] = y_pred\n",
    "    \n",
    "    return y_pred, preds_proba, trainScore, df, accuracy_rf"
   ]
  },
  {
   "cell_type": "markdown",
   "id": "4cef4b0a",
   "metadata": {},
   "source": [
    "# Weighted average ensemble"
   ]
  },
  {
   "cell_type": "code",
   "execution_count": 5,
   "id": "e1690f80-3981-4e05-a803-4d3a05020953",
   "metadata": {},
   "outputs": [],
   "source": [
    "def get_WeightedEnsemble_results(cat_df, xgb_df, raf_df, cat_scr, xgb_scr, raf_scr, y_test_str):\n",
    "\n",
    "    # Compute the weights for each method using training scores\n",
    "    tot_scr = cat_scr + xgb_scr + raf_scr\n",
    "    cat_wght = cat_scr/tot_scr\n",
    "    xgb_wght = xgb_scr/tot_scr\n",
    "    raf_wght = raf_scr/tot_scr\n",
    "\n",
    "    # Create an empty dataframe to share the final results\n",
    "    df = pd.DataFrame(columns =['high risk prob', 'low risk prob', 'mid risk prob'], dtype = float)\n",
    "\n",
    "    # Compute the final values and store the results in the dataframe\n",
    "\n",
    "    for i in range(len(cat_df)):\n",
    "        highcatVal = cat_wght*cat_df['High risk prob'].iloc[i]\n",
    "        highxgbVal = xgb_wght*xgb_df['High risk prob'].iloc[i]\n",
    "        highrafVal = raf_wght*raf_df['High risk prob'].iloc[i]\n",
    "\n",
    "        lowcatVal = cat_wght*cat_df['Low risk prob'].iloc[i]\n",
    "        lowxgbVal = xgb_wght*xgb_df['Low risk prob'].iloc[i]\n",
    "        lowrafVal = raf_wght*raf_df['Low risk prob'].iloc[i]\n",
    "\n",
    "        medcatVal = cat_wght*cat_df['Medium risk prob'].iloc[i]\n",
    "        medxgbVal = xgb_wght*xgb_df['Medium risk prob'].iloc[i]\n",
    "        medrafVal = raf_wght*raf_df['Medium risk prob'].iloc[i]\n",
    "\n",
    "        highVal = highcatVal + highxgbVal + highrafVal\n",
    "        lowVal = lowcatVal + lowxgbVal + lowrafVal\n",
    "        medVal = medcatVal + medxgbVal + medrafVal\n",
    "        \n",
    "        df.loc[len(df.index)] = [highVal, lowVal, medVal]\n",
    "\n",
    "        del(highVal, lowVal, medVal)\n",
    "\n",
    "    df['Prediction'] = df.idxmax(axis=1)\n",
    "    df['Prediction'] = df['Prediction'].astype(str)\n",
    "    df['Prediction'] = df['Prediction'].str.replace(\" prob\", \"\")\n",
    "\n",
    "    actual_list = list(y_test_str)\n",
    "    df['Actual'] = actual_list\n",
    "\n",
    "    df.to_csv('final_prediction_values.csv', index=False)\n",
    "    \n",
    "    return df"
   ]
  },
  {
   "cell_type": "markdown",
   "id": "ee758c70-9501-4235-b25d-95af63f46317",
   "metadata": {},
   "source": [
    "# Rough Work"
   ]
  },
  {
   "cell_type": "code",
   "execution_count": 6,
   "id": "981e9e58-4b62-48a0-8e1b-76737fd3bf6f",
   "metadata": {},
   "outputs": [
    {
     "name": "stdout",
     "output_type": "stream",
     "text": [
      "Test Accuracy of Random Forest: 84.3137%\n",
      "Train Accuracy of Random Forest: 92.9825%\n",
      "Test Accuracy of Random Forest: 83.3333%\n",
      "Train Accuracy of Random Forest: 92.9825%\n",
      "Test Accuracy of Random Forest: 68.6275%\n",
      "Train Accuracy of Random Forest: 71.6009%\n",
      "Accuracy of Random Forest: 84.3137%\n",
      "Test Accuracy of Random Forest: 90.1961%\n",
      "Train Accuracy of Random Forest: 92.3246%\n",
      "Test Accuracy of Random Forest: 91.1765%\n",
      "Train Accuracy of Random Forest: 92.3246%\n",
      "Test Accuracy of Random Forest: 75.4902%\n",
      "Train Accuracy of Random Forest: 70.8333%\n",
      "Accuracy of Random Forest: 90.1961%\n",
      "Test Accuracy of Random Forest: 86.2745%\n",
      "Train Accuracy of Random Forest: 92.5439%\n",
      "Test Accuracy of Random Forest: 89.2157%\n",
      "Train Accuracy of Random Forest: 92.5439%\n",
      "Test Accuracy of Random Forest: 72.5490%\n",
      "Train Accuracy of Random Forest: 69.9561%\n",
      "Accuracy of Random Forest: 88.2353%\n",
      "Test Accuracy of Random Forest: 84.3137%\n",
      "Train Accuracy of Random Forest: 92.4342%\n",
      "Test Accuracy of Random Forest: 84.3137%\n",
      "Train Accuracy of Random Forest: 92.4342%\n",
      "Test Accuracy of Random Forest: 63.7255%\n",
      "Train Accuracy of Random Forest: 73.5746%\n",
      "Accuracy of Random Forest: 84.3137%\n",
      "Test Accuracy of Random Forest: 80.1980%\n",
      "Train Accuracy of Random Forest: 92.5520%\n",
      "Test Accuracy of Random Forest: 85.1485%\n",
      "Train Accuracy of Random Forest: 92.7711%\n",
      "Test Accuracy of Random Forest: 70.2970%\n",
      "Train Accuracy of Random Forest: 70.9748%\n",
      "Accuracy of Random Forest: 85.1485%\n",
      "Test Accuracy of Random Forest: 86.1386%\n",
      "Train Accuracy of Random Forest: 92.4425%\n",
      "Test Accuracy of Random Forest: 91.0891%\n",
      "Train Accuracy of Random Forest: 92.4425%\n",
      "Test Accuracy of Random Forest: 71.2871%\n",
      "Train Accuracy of Random Forest: 70.5367%\n",
      "Accuracy of Random Forest: 91.0891%\n",
      "Test Accuracy of Random Forest: 88.1188%\n",
      "Train Accuracy of Random Forest: 92.5520%\n",
      "Test Accuracy of Random Forest: 87.1287%\n",
      "Train Accuracy of Random Forest: 92.5520%\n",
      "Test Accuracy of Random Forest: 69.3069%\n",
      "Train Accuracy of Random Forest: 70.9748%\n",
      "Accuracy of Random Forest: 89.1089%\n",
      "Test Accuracy of Random Forest: 90.0990%\n",
      "Train Accuracy of Random Forest: 92.3330%\n",
      "Test Accuracy of Random Forest: 88.1188%\n",
      "Train Accuracy of Random Forest: 92.3330%\n",
      "Test Accuracy of Random Forest: 66.3366%\n",
      "Train Accuracy of Random Forest: 71.6320%\n",
      "Accuracy of Random Forest: 90.0990%\n",
      "Test Accuracy of Random Forest: 84.1584%\n",
      "Train Accuracy of Random Forest: 92.9901%\n",
      "Test Accuracy of Random Forest: 83.1683%\n",
      "Train Accuracy of Random Forest: 92.9901%\n",
      "Test Accuracy of Random Forest: 70.2970%\n",
      "Train Accuracy of Random Forest: 70.4272%\n",
      "Accuracy of Random Forest: 84.1584%\n",
      "Test Accuracy of Random Forest: 89.1089%\n",
      "Train Accuracy of Random Forest: 92.2234%\n",
      "Test Accuracy of Random Forest: 90.0990%\n",
      "Train Accuracy of Random Forest: 92.2234%\n",
      "Test Accuracy of Random Forest: 72.2772%\n",
      "Train Accuracy of Random Forest: 70.8653%\n",
      "Accuracy of Random Forest: 90.0990%\n"
     ]
    }
   ],
   "source": [
    "# Import Required Modules.\n",
    "from sklearn import preprocessing\n",
    "from sklearn.model_selection import StratifiedKFold\n",
    "\n",
    "# Create StratifiedKFold object.\n",
    "skf = StratifiedKFold(n_splits=10, shuffle=True, random_state=11)\n",
    "\n",
    "# Empty list for storing accuracies\n",
    "ensemble_accuracy = []\n",
    "cb_accuracy = []\n",
    "xg_accuracy = []\n",
    "rf_accuracy = []\n",
    "\n",
    "for train_index, test_index in skf.split(pre_test_data, pre_test_data['Risk_Level']):\n",
    "    strat_train_set = pre_test_data.loc[train_index]\n",
    "    strat_test_set = pre_test_data.loc[test_index]\n",
    "\n",
    "    X_train_strat = strat_train_set[['Age', 'SystolicBP', 'DiastolicBP', 'BS', 'Body Temp', 'Heart Rate']]\n",
    "    y_train_strat = strat_train_set['Risk_Level']\n",
    "    \n",
    "    X_test_strat = strat_test_set[['Age', 'SystolicBP', 'DiastolicBP', 'BS', 'Body Temp', 'Heart Rate']]\n",
    "    y_test_strat = strat_test_set['Risk_Level']\n",
    "\n",
    "    predC, probC, scrC, dfC, acrC = get_catBoost_results(X_train_strat, X_test_strat, y_train_strat, y_test_strat)\n",
    "    predX, probX, scrX, dfX, acrX = get_XGBoost_results(X_train_strat, X_test_strat, y_train_strat, y_test_strat)\n",
    "    predR, probR, scrR, dfR, acrR = get_RandForest_results(X_train_strat, X_test_strat, y_train_strat, y_test_strat)\n",
    "\n",
    "    finalPred_df = get_WeightedEnsemble_results(dfC, dfX, dfR, scrC, scrX, scrR, y_test_strat)\n",
    "\n",
    "    # Evaluate the model\n",
    "    accuracy_rf = accuracy_score(y_test_strat, finalPred_df['Prediction'])\n",
    "    print(f\"Accuracy of Random Forest: {accuracy_rf*100:.4f}%\")\n",
    "\n",
    "    ensemble_accuracy.append(accuracy_rf*100)\n",
    "    cb_accuracy.append(acrC*100)\n",
    "    xg_accuracy.append(acrX*100)\n",
    "    rf_accuracy.append(acrR*100)"
   ]
  },
  {
   "cell_type": "code",
   "execution_count": 7,
   "id": "787ecf7b-f869-4771-b4cf-c5c9a385d0de",
   "metadata": {},
   "outputs": [
    {
     "data": {
      "text/plain": [
       "[84.31372549019608,\n",
       " 90.19607843137256,\n",
       " 88.23529411764706,\n",
       " 84.31372549019608,\n",
       " 85.14851485148515,\n",
       " 91.0891089108911,\n",
       " 89.10891089108911,\n",
       " 90.0990099009901,\n",
       " 84.15841584158416,\n",
       " 90.0990099009901]"
      ]
     },
     "execution_count": 7,
     "metadata": {},
     "output_type": "execute_result"
    }
   ],
   "source": [
    "ensemble_accuracy"
   ]
  },
  {
   "cell_type": "code",
   "execution_count": 9,
   "id": "4359d3de-f752-44e0-970b-33086c455d2e",
   "metadata": {},
   "outputs": [
    {
     "data": {
      "image/png": "[encoded data removed]",
      "text/plain": [
       "<Figure size 640x480 with 1 Axes>"
      ]
     },
     "metadata": {},
     "output_type": "display_data"
    }
   ],
   "source": [
    "import matplotlib.pyplot as plt\n",
    "\n",
    "data = [ensemble_accuracy, cb_accuracy, xg_accuracy, rf_accuracy]\n",
    "labels = ['Ensemble', 'CatBoost', 'XGBoost', 'Random Forest']\n",
    "\n",
    "plt.boxplot(data, labels=labels, patch_artist=True)\n",
    "plt.xlabel(\"Model type\")\n",
    "plt.ylabel(\"Accuracy\")\n",
    "plt.title(\"Final predictions accuracy using stratified 10-fold cross validation\")\n",
    "plt.savefig(\"final_prediction.png\", dpi=600, transparent=True, bbox_inches='tight')\n",
    "plt.show()"
   ]
  },
  {
   "cell_type": "code",
   "execution_count": null,
   "id": "fab2fc5f-4823-475a-9a04-934f1dd068da",
   "metadata": {},
   "outputs": [],
   "source": []
  }
 ],
 "metadata": {
  "kernelspec": {
   "display_name": "Python 3 (ipykernel)",
   "language": "python",
   "name": "python3"
  },
  "language_info": {
   "codemirror_mode": {
    "name": "ipython",
    "version": 3
   },
   "file_extension": ".py",
   "mimetype": "text/x-python",
   "name": "python",
   "nbconvert_exporter": "python",
   "pygments_lexer": "ipython3",
   "version": "3.12.3"
  }
 },
 "nbformat": 4,
 "nbformat_minor": 5
}
